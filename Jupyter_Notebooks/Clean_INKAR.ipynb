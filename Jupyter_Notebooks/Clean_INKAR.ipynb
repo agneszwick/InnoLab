{
 "cells": [
  {
   "cell_type": "code",
   "execution_count": 17,
   "id": "ddf90f4f-4473-4811-95db-749837ea25a7",
   "metadata": {},
   "outputs": [],
   "source": [
    "import pandas as pd\n",
    "import re\n",
    "from collections import Counter\n",
    "\n",
    "def read_and_rename_columns_with_years(filepath, sep=';', encoding='utf-8'):\n",
    "    # Kopfzeilen lesen (erste 2 Zeilen)\n",
    "    df_headers = pd.read_csv(filepath, nrows=2, sep=sep, encoding=encoding, quotechar='\"')\n",
    "\n",
    "    # Erste Zeile: Spaltennamen, zweite Zeile: mögliche Jahreszahlen\n",
    "    original_headers = df_headers.iloc[0].tolist()\n",
    "    possible_years = df_headers.iloc[1].tolist()\n",
    "\n",
    "    renamed_columns = []\n",
    "    name_counter = Counter()\n",
    "\n",
    "    # Spaltennamen anpassen\n",
    "    for col, year in zip(original_headers, possible_years):\n",
    "        year_str = str(year).strip() if pd.notna(year) else ''\n",
    "        \n",
    "        # Wenn es eine Jahreszahl gibt, hänge sie an den Spaltennamen\n",
    "        if re.match(r'\\d{4}', year_str):  # Wenn Jahr im Format YYYY\n",
    "            new_col_name = f\"{col}_{year_str}\"\n",
    "        else:\n",
    "            new_col_name = col  # Wenn keine Jahreszahl, behalten wir den ursprünglichen Namen\n",
    "\n",
    "        # Bei Duplikaten im Spaltennamen fügen wir einen Index hinzu\n",
    "        name_counter[new_col_name] += 1\n",
    "        if name_counter[new_col_name] > 1:\n",
    "            new_col_name = f\"{new_col_name}_{name_counter[new_col_name] - 1}\"\n",
    "\n",
    "        renamed_columns.append(new_col_name)\n",
    "\n",
    "    # Ab der dritten Zeile die tatsächlichen Daten einlesen\n",
    "    df = pd.read_csv(\n",
    "        filepath,\n",
    "        skiprows=2,\n",
    "        names=renamed_columns,\n",
    "        sep=sep,\n",
    "        encoding=encoding,\n",
    "        quotechar='\"'\n",
    "    )\n",
    "\n",
    "    # Raumeinheit-Spalte löschen (falls vorhanden)\n",
    "    df.drop(columns=['Raumeinheit'], errors='ignore', inplace=True)\n",
    "\n",
    "    return df\n"
   ]
  },
  {
   "cell_type": "code",
   "execution_count": 18,
   "id": "5bb0d8d8-cff5-4131-a9d3-ede3533f7821",
   "metadata": {},
   "outputs": [
    {
     "ename": "KeyError",
     "evalue": "\"None of [Index(['Kennziffer'], dtype='object')] are in the [columns]\"",
     "output_type": "error",
     "traceback": [
      "\u001b[1;31m---------------------------------------------------------------------------\u001b[0m",
      "\u001b[1;31mKeyError\u001b[0m                                  Traceback (most recent call last)",
      "Cell \u001b[1;32mIn[18], line 3\u001b[0m\n\u001b[0;32m      1\u001b[0m zensus_csv_path \u001b[38;5;241m=\u001b[39m \u001b[38;5;124m\"\u001b[39m\u001b[38;5;124mC:/Users/agnes/Documents/EAGLE/Innovation_Lab/Daten/INKAR/Absolutzahlen.csv\u001b[39m\u001b[38;5;124m\"\u001b[39m\n\u001b[0;32m      2\u001b[0m df_zensus \u001b[38;5;241m=\u001b[39m read_and_rename_columns_with_years(zensus_csv_path)\n\u001b[1;32m----> 3\u001b[0m \u001b[38;5;28mprint\u001b[39m(\u001b[43mdf_zensus\u001b[49m\u001b[43m[\u001b[49m\u001b[43m[\u001b[49m\u001b[38;5;124;43m'\u001b[39;49m\u001b[38;5;124;43mKennziffer\u001b[39;49m\u001b[38;5;124;43m'\u001b[39;49m\u001b[43m]\u001b[49m\u001b[43m]\u001b[49m\u001b[38;5;241m.\u001b[39mhead(\u001b[38;5;241m10\u001b[39m))\n",
      "File \u001b[1;32m~\\anaconda3\\lib\\site-packages\\pandas\\core\\frame.py:3813\u001b[0m, in \u001b[0;36mDataFrame.__getitem__\u001b[1;34m(self, key)\u001b[0m\n\u001b[0;32m   3811\u001b[0m     \u001b[38;5;28;01mif\u001b[39;00m is_iterator(key):\n\u001b[0;32m   3812\u001b[0m         key \u001b[38;5;241m=\u001b[39m \u001b[38;5;28mlist\u001b[39m(key)\n\u001b[1;32m-> 3813\u001b[0m     indexer \u001b[38;5;241m=\u001b[39m \u001b[38;5;28;43mself\u001b[39;49m\u001b[38;5;241;43m.\u001b[39;49m\u001b[43mcolumns\u001b[49m\u001b[38;5;241;43m.\u001b[39;49m\u001b[43m_get_indexer_strict\u001b[49m\u001b[43m(\u001b[49m\u001b[43mkey\u001b[49m\u001b[43m,\u001b[49m\u001b[43m \u001b[49m\u001b[38;5;124;43m\"\u001b[39;49m\u001b[38;5;124;43mcolumns\u001b[39;49m\u001b[38;5;124;43m\"\u001b[39;49m\u001b[43m)\u001b[49m[\u001b[38;5;241m1\u001b[39m]\n\u001b[0;32m   3815\u001b[0m \u001b[38;5;66;03m# take() does not accept boolean indexers\u001b[39;00m\n\u001b[0;32m   3816\u001b[0m \u001b[38;5;28;01mif\u001b[39;00m \u001b[38;5;28mgetattr\u001b[39m(indexer, \u001b[38;5;124m\"\u001b[39m\u001b[38;5;124mdtype\u001b[39m\u001b[38;5;124m\"\u001b[39m, \u001b[38;5;28;01mNone\u001b[39;00m) \u001b[38;5;241m==\u001b[39m \u001b[38;5;28mbool\u001b[39m:\n",
      "File \u001b[1;32m~\\anaconda3\\lib\\site-packages\\pandas\\core\\indexes\\base.py:6070\u001b[0m, in \u001b[0;36mIndex._get_indexer_strict\u001b[1;34m(self, key, axis_name)\u001b[0m\n\u001b[0;32m   6067\u001b[0m \u001b[38;5;28;01melse\u001b[39;00m:\n\u001b[0;32m   6068\u001b[0m     keyarr, indexer, new_indexer \u001b[38;5;241m=\u001b[39m \u001b[38;5;28mself\u001b[39m\u001b[38;5;241m.\u001b[39m_reindex_non_unique(keyarr)\n\u001b[1;32m-> 6070\u001b[0m \u001b[38;5;28;43mself\u001b[39;49m\u001b[38;5;241;43m.\u001b[39;49m\u001b[43m_raise_if_missing\u001b[49m\u001b[43m(\u001b[49m\u001b[43mkeyarr\u001b[49m\u001b[43m,\u001b[49m\u001b[43m \u001b[49m\u001b[43mindexer\u001b[49m\u001b[43m,\u001b[49m\u001b[43m \u001b[49m\u001b[43maxis_name\u001b[49m\u001b[43m)\u001b[49m\n\u001b[0;32m   6072\u001b[0m keyarr \u001b[38;5;241m=\u001b[39m \u001b[38;5;28mself\u001b[39m\u001b[38;5;241m.\u001b[39mtake(indexer)\n\u001b[0;32m   6073\u001b[0m \u001b[38;5;28;01mif\u001b[39;00m \u001b[38;5;28misinstance\u001b[39m(key, Index):\n\u001b[0;32m   6074\u001b[0m     \u001b[38;5;66;03m# GH 42790 - Preserve name from an Index\u001b[39;00m\n",
      "File \u001b[1;32m~\\anaconda3\\lib\\site-packages\\pandas\\core\\indexes\\base.py:6130\u001b[0m, in \u001b[0;36mIndex._raise_if_missing\u001b[1;34m(self, key, indexer, axis_name)\u001b[0m\n\u001b[0;32m   6128\u001b[0m     \u001b[38;5;28;01mif\u001b[39;00m use_interval_msg:\n\u001b[0;32m   6129\u001b[0m         key \u001b[38;5;241m=\u001b[39m \u001b[38;5;28mlist\u001b[39m(key)\n\u001b[1;32m-> 6130\u001b[0m     \u001b[38;5;28;01mraise\u001b[39;00m \u001b[38;5;167;01mKeyError\u001b[39;00m(\u001b[38;5;124mf\u001b[39m\u001b[38;5;124m\"\u001b[39m\u001b[38;5;124mNone of [\u001b[39m\u001b[38;5;132;01m{\u001b[39;00mkey\u001b[38;5;132;01m}\u001b[39;00m\u001b[38;5;124m] are in the [\u001b[39m\u001b[38;5;132;01m{\u001b[39;00maxis_name\u001b[38;5;132;01m}\u001b[39;00m\u001b[38;5;124m]\u001b[39m\u001b[38;5;124m\"\u001b[39m)\n\u001b[0;32m   6132\u001b[0m not_found \u001b[38;5;241m=\u001b[39m \u001b[38;5;28mlist\u001b[39m(ensure_index(key)[missing_mask\u001b[38;5;241m.\u001b[39mnonzero()[\u001b[38;5;241m0\u001b[39m]]\u001b[38;5;241m.\u001b[39munique())\n\u001b[0;32m   6133\u001b[0m \u001b[38;5;28;01mraise\u001b[39;00m \u001b[38;5;167;01mKeyError\u001b[39;00m(\u001b[38;5;124mf\u001b[39m\u001b[38;5;124m\"\u001b[39m\u001b[38;5;132;01m{\u001b[39;00mnot_found\u001b[38;5;132;01m}\u001b[39;00m\u001b[38;5;124m not in index\u001b[39m\u001b[38;5;124m\"\u001b[39m)\n",
      "\u001b[1;31mKeyError\u001b[0m: \"None of [Index(['Kennziffer'], dtype='object')] are in the [columns]\""
     ]
    }
   ],
   "source": [
    "zensus_csv_path = \"C:/Users/agnes/Documents/EAGLE/Innovation_Lab/Daten/INKAR/Absolutzahlen.csv\"\n",
    "df_zensus = read_and_rename_columns_with_years(zensus_csv_path)\n",
    "print(df_zensus[['Kennziffer']].head(10))  # Ausgabe der ersten 10 Zeilen der \"Kennziffer\"-Spalte\n"
   ]
  },
  {
   "cell_type": "code",
   "execution_count": 19,
   "id": "dde62bea-9e18-47a9-be16-92e8de474982",
   "metadata": {},
   "outputs": [
    {
     "name": "stdout",
     "output_type": "stream",
     "text": [
      "Index(['nan_1001.0',          nan,      'nan_1',       '2022',     '2022_1',\n",
      "           '2022_2',     '2022_3',     '2022_4',     '2022_5',       '2021',\n",
      "           '2022_6',     '2022_7',     '2022_8',     '2021_1'],\n",
      "      dtype='object')\n"
     ]
    }
   ],
   "source": [
    "# Überprüfe alle Spaltennamen\n",
    "print(df_zensus.columns)\n"
   ]
  }
 ],
 "metadata": {
  "kernelspec": {
   "display_name": "Python 3 (ipykernel)",
   "language": "python",
   "name": "python3"
  },
  "language_info": {
   "codemirror_mode": {
    "name": "ipython",
    "version": 3
   },
   "file_extension": ".py",
   "mimetype": "text/x-python",
   "name": "python",
   "nbconvert_exporter": "python",
   "pygments_lexer": "ipython3",
   "version": "3.10.17"
  }
 },
 "nbformat": 4,
 "nbformat_minor": 5
}
