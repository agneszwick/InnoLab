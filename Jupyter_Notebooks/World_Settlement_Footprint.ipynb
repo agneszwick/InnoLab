{
 "cells": [
  {
   "cell_type": "code",
   "execution_count": 3,
   "id": "6527a67c",
   "metadata": {},
   "outputs": [],
   "source": [
    "# Import packages\n",
    "import os\n",
    "import rasterio\n",
    "from rasterio.merge import merge\n",
    "from rasterio.enums import Resampling\n",
    "import geopandas as gpd\n",
    "import numpy as np\n",
    "from rasterio.warp import calculate_default_transform, reproject\n",
    "import subprocess\n",
    "from rasterio.mask import mask\n",
    "import pandas as pd\n"
   ]
  },
  {
   "cell_type": "code",
   "execution_count": 4,
   "id": "7b1690ab",
   "metadata": {},
   "outputs": [
    {
     "name": "stdout",
     "output_type": "stream",
     "text": [
      "Running: gdalwarp -multi -wo NUM_THREADS=ALL_CPUS -r near -t_srs EPSG:31467 -tr 10 10 C:\\Users\\agnes\\Documents\\EAGLE\\Innovation_Lab\\Daten\\World_Settlement_Footprint\\WSF2015_Germany-0000000000-0000000000.tif C:\\Users\\agnes\\Documents\\EAGLE\\Innovation_Lab\\Daten\\World_Settlement_Footprint\\WSF2015_Germany-0000065536-0000000000.tif C:\\Users\\agnes\\Documents\\EAGLE\\Innovation_Lab\\Daten\\World_Settlement_Footprint\\WSF_merged_31467.tif C:\\Users\\agnes\\Documents\\EAGLE\\Innovation_Lab\\Daten\\World_Settlement_Footprint\\WSF_merged_31467.tif\n"
     ]
    },
    {
     "ename": "CalledProcessError",
     "evalue": "Command '['gdalwarp', '-multi', '-wo', 'NUM_THREADS=ALL_CPUS', '-r', 'near', '-t_srs', 'EPSG:31467', '-tr', '10', '10', 'C:\\\\Users\\\\agnes\\\\Documents\\\\EAGLE\\\\Innovation_Lab\\\\Daten\\\\World_Settlement_Footprint\\\\WSF2015_Germany-0000000000-0000000000.tif', 'C:\\\\Users\\\\agnes\\\\Documents\\\\EAGLE\\\\Innovation_Lab\\\\Daten\\\\World_Settlement_Footprint\\\\WSF2015_Germany-0000065536-0000000000.tif', 'C:\\\\Users\\\\agnes\\\\Documents\\\\EAGLE\\\\Innovation_Lab\\\\Daten\\\\World_Settlement_Footprint\\\\WSF_merged_31467.tif', 'C:\\\\Users\\\\agnes\\\\Documents\\\\EAGLE\\\\Innovation_Lab\\\\Daten\\\\World_Settlement_Footprint\\\\WSF_merged_31467.tif']' returned non-zero exit status 1.",
     "output_type": "error",
     "traceback": [
      "\u001b[1;31m---------------------------------------------------------------------------\u001b[0m",
      "\u001b[1;31mCalledProcessError\u001b[0m                        Traceback (most recent call last)",
      "Cell \u001b[1;32mIn[4], line 31\u001b[0m\n\u001b[0;32m     29\u001b[0m \u001b[38;5;66;03m# 5. Run it\u001b[39;00m\n\u001b[0;32m     30\u001b[0m \u001b[38;5;28mprint\u001b[39m(\u001b[38;5;124m\"\u001b[39m\u001b[38;5;124mRunning:\u001b[39m\u001b[38;5;124m\"\u001b[39m, \u001b[38;5;124m\"\u001b[39m\u001b[38;5;124m \u001b[39m\u001b[38;5;124m\"\u001b[39m\u001b[38;5;241m.\u001b[39mjoin(cmd))\n\u001b[1;32m---> 31\u001b[0m \u001b[43msubprocess\u001b[49m\u001b[38;5;241;43m.\u001b[39;49m\u001b[43mrun\u001b[49m\u001b[43m(\u001b[49m\u001b[43mcmd\u001b[49m\u001b[43m,\u001b[49m\u001b[43m \u001b[49m\u001b[43mcheck\u001b[49m\u001b[38;5;241;43m=\u001b[39;49m\u001b[38;5;28;43;01mTrue\u001b[39;49;00m\u001b[43m)\u001b[49m\n\u001b[0;32m     33\u001b[0m \u001b[38;5;28mprint\u001b[39m(\u001b[38;5;124m\"\u001b[39m\u001b[38;5;124mMerged & reprojected raster written to:\u001b[39m\u001b[38;5;124m\"\u001b[39m, out_path)\n",
      "File \u001b[1;32m~\\anaconda3\\lib\\subprocess.py:526\u001b[0m, in \u001b[0;36mrun\u001b[1;34m(input, capture_output, timeout, check, *popenargs, **kwargs)\u001b[0m\n\u001b[0;32m    524\u001b[0m     retcode \u001b[38;5;241m=\u001b[39m process\u001b[38;5;241m.\u001b[39mpoll()\n\u001b[0;32m    525\u001b[0m     \u001b[38;5;28;01mif\u001b[39;00m check \u001b[38;5;129;01mand\u001b[39;00m retcode:\n\u001b[1;32m--> 526\u001b[0m         \u001b[38;5;28;01mraise\u001b[39;00m CalledProcessError(retcode, process\u001b[38;5;241m.\u001b[39margs,\n\u001b[0;32m    527\u001b[0m                                  output\u001b[38;5;241m=\u001b[39mstdout, stderr\u001b[38;5;241m=\u001b[39mstderr)\n\u001b[0;32m    528\u001b[0m \u001b[38;5;28;01mreturn\u001b[39;00m CompletedProcess(process\u001b[38;5;241m.\u001b[39margs, retcode, stdout, stderr)\n",
      "\u001b[1;31mCalledProcessError\u001b[0m: Command '['gdalwarp', '-multi', '-wo', 'NUM_THREADS=ALL_CPUS', '-r', 'near', '-t_srs', 'EPSG:31467', '-tr', '10', '10', 'C:\\\\Users\\\\agnes\\\\Documents\\\\EAGLE\\\\Innovation_Lab\\\\Daten\\\\World_Settlement_Footprint\\\\WSF2015_Germany-0000000000-0000000000.tif', 'C:\\\\Users\\\\agnes\\\\Documents\\\\EAGLE\\\\Innovation_Lab\\\\Daten\\\\World_Settlement_Footprint\\\\WSF2015_Germany-0000065536-0000000000.tif', 'C:\\\\Users\\\\agnes\\\\Documents\\\\EAGLE\\\\Innovation_Lab\\\\Daten\\\\World_Settlement_Footprint\\\\WSF_merged_31467.tif', 'C:\\\\Users\\\\agnes\\\\Documents\\\\EAGLE\\\\Innovation_Lab\\\\Daten\\\\World_Settlement_Footprint\\\\WSF_merged_31467.tif']' returned non-zero exit status 1."
     ]
    }
   ],
   "source": [
    "# Merge WSF files\n",
    "\n",
    "wsf_folder = r\"C:\\Users\\agnes\\Documents\\EAGLE\\Innovation_Lab\\Daten\\World_Settlement_Footprint\"\n",
    "\n",
    "# gather all .tif paths\n",
    "wsf_files = [\n",
    "    os.path.join(wsf_folder, f)\n",
    "    for f in os.listdir(wsf_folder)\n",
    "    if f.lower().endswith('.tif')\n",
    "]\n",
    "\n",
    "# 3. Define output path\n",
    "out_path = os.path.join(wsf_folder, \"WSF_merged_31467.tif\")\n",
    "\n",
    "# 4. Build the gdalwarp command:\n",
    "#    - -multi + NUM_THREADS=ALL_CPUS for multithreading\n",
    "#    - -r nearest to preserve 0/1 values\n",
    "#    - -t_srs EPSG:31467 target CRS\n",
    "#    - -tr 10 10 target resolution (10 m)\n",
    "cmd = [\n",
    "    \"gdalwarp\",\n",
    "    \"-multi\",\n",
    "    \"-wo\", \"NUM_THREADS=ALL_CPUS\",\n",
    "    \"-r\", \"near\",\n",
    "    \"-t_srs\", \"EPSG:31467\",\n",
    "    \"-tr\", \"10\", \"10\",\n",
    "] + wsf_files + [out_path]\n",
    "\n",
    "# 5. Run it\n",
    "print(\"Running:\", \" \".join(cmd))\n",
    "subprocess.run(cmd, check=True)\n",
    "\n",
    "print(\"Merged & reprojected raster written to:\", out_path)\n"
   ]
  },
  {
   "cell_type": "code",
   "execution_count": 5,
   "id": "154fe877",
   "metadata": {},
   "outputs": [
    {
     "name": "stdout",
     "output_type": "stream",
     "text": [
      "AGS: 01001\n",
      "Name: Flensburg\n",
      "Settlement Area: 23701700 m²\n",
      "Total Area: 49286400 m²\n",
      "Settlement Coverage: 48.09 %\n"
     ]
    }
   ],
   "source": [
    "# Files\n",
    "shp_file = r\"C:\\Users\\agnes\\Documents\\EAGLE\\Innovation_Lab\\Daten\\Verwaltungsgebiete\\vg250_12-31.gk3.shape.ebenen\\vg250_ebenen_1231\\VG250_KRS.shp\"\n",
    "gdf = gpd.read_file(shp_file)\n",
    "wsf_raster  = \"C:/Users/agnes/Documents/EAGLE/Innovation_Lab/Daten/World_Settlement_Footprint/WSF_merged_31467.tif\"\n",
    "\n",
    "# Definiere die Pixelgröße (10m x 10m)\n",
    "pixel_area = 10 * 10  # 10m * 10m = 100 m² pro Pixel\n",
    "\n",
    "first_polygon = gdf.iloc[0]  # Nur der erste (Land-)kreis (Polygon)\n",
    "\n",
    "with rasterio.open(wsf_raster) as src:\n",
    "    # Maske erstellen für den ersten Kreis\n",
    "    geom = [first_polygon.geometry]\n",
    "    out_image, _ = mask(src, geom, crop=True, filled=False)\n",
    "    arr = out_image[0] \n",
    "\n",
    "    # Nur gültige (nicht-masked) Pixel analysieren\n",
    "    valid_pixels = arr.compressed()  # Maskierte Pixel entfernen\n",
    "    total_pixels = valid_pixels.size\n",
    "\n",
    "    if total_pixels == 0:\n",
    "        settlement_area = 0.0\n",
    "        total_area = 0.0\n",
    "        pct = 0.0\n",
    "    else:\n",
    "        # Zähle alle Pixel mit einem Wert > 0 als Siedlungsfläche\n",
    "        settlement_pixels = np.sum(valid_pixels > 0)\n",
    "        settlement_area = settlement_pixels * pixel_area\n",
    "        total_area = total_pixels * pixel_area\n",
    "        pct = (settlement_area / total_area) * 100\n",
    "\n",
    "    # Ergebnis anzeigen\n",
    "    print(f\"AGS: {first_polygon['AGS']}\")\n",
    "    print(f\"Name: {first_polygon['GEN']}\")\n",
    "    print(f\"Settlement Area: {settlement_area} m²\")\n",
    "    print(f\"Total Area: {total_area} m²\")\n",
    "    print(f\"Settlement Coverage: {pct:.2f} %\")\n"
   ]
  },
  {
   "cell_type": "code",
   "execution_count": 6,
   "id": "f6d6b06f",
   "metadata": {},
   "outputs": [
    {
     "name": "stdout",
     "output_type": "stream",
     "text": [
      "Done! Results written to: C:/Users/agnes/Documents/EAGLE/Innovation_Lab/Daten/settlement_coverage_by_district.csv\n"
     ]
    }
   ],
   "source": [
    "# Paths \n",
    "shp_file = r\"C:\\Users\\agnes\\Documents\\EAGLE\\Innovation_Lab\\Daten\\Verwaltungsgebiete\\vg250_12-31.gk3.shape.ebenen\\vg250_ebenen_1231\\VG250_KRS.shp\"\n",
    "wsf_raster  = r\"C:/Users/agnes/Documents/EAGLE/Innovation_Lab/Daten/World_Settlement_Footprint/WSF_merged_31467.tif\"\n",
    "output_csv  = r\"C:/Users/agnes/Documents/EAGLE/Innovation_Lab/Daten/settlement_coverage_by_district.csv\"\n",
    "\n",
    "gdf = gpd.read_file(shp_file)\n",
    "\n",
    "# Open the WSF raster to grab its CRS and pixel size\n",
    "with rasterio.open(wsf_raster) as src:\n",
    "    raster_crs   = src.crs\n",
    "    pixel_area   = abs(src.res[0] * src.res[1])  # m² per pixel\n",
    "\n",
    "# Reproject districts to the raster CRS if needed\n",
    "if gdf.crs != raster_crs:\n",
    "    gdf = gdf.to_crs(raster_crs)\n",
    "\n",
    "# Loop over each district, mask & compute coverage\n",
    "results = []\n",
    "with rasterio.open(wsf_raster) as src:\n",
    "    for _, row in gdf.iterrows():\n",
    "        geom = [row.geometry]\n",
    "        out_image, _ = mask(src, geom, crop=True, filled=False)\n",
    "        arr = out_image[0]  # masked array\n",
    "\n",
    "        # only pixels inside the polygon\n",
    "        valid_pixels = arr.compressed()\n",
    "        total_pixels = valid_pixels.size\n",
    "\n",
    "        if total_pixels == 0:\n",
    "            settlement_area = 0.0\n",
    "            total_area      = 0.0\n",
    "            pct             = 0.0\n",
    "        else:\n",
    "            # count any positive value as settlement\n",
    "            settlement_pixels = np.sum(valid_pixels > 0)\n",
    "            settlement_area   = settlement_pixels * pixel_area\n",
    "            total_area        = total_pixels * pixel_area\n",
    "            pct               = (settlement_area / total_area) * 100\n",
    "\n",
    "        results.append({\n",
    "            'AGS': row.get('AGS'),\n",
    "            'Name': row.get('GEN'),\n",
    "            'Settlement_Area_m2': settlement_area,\n",
    "            'Total_Area_m2':    total_area,\n",
    "            'Coverage_Percent': pct\n",
    "        })\n",
    "        \n",
    "# Save results to CSV\n",
    "df = pd.DataFrame(results)\n",
    "df.to_csv(output_csv, index=False)\n",
    "print(\"Done! Results written to:\", output_csv)\n"
   ]
  }
 ],
 "metadata": {
  "kernelspec": {
   "display_name": "Python 3 (ipykernel)",
   "language": "python",
   "name": "python3"
  },
  "language_info": {
   "codemirror_mode": {
    "name": "ipython",
    "version": 3
   },
   "file_extension": ".py",
   "mimetype": "text/x-python",
   "name": "python",
   "nbconvert_exporter": "python",
   "pygments_lexer": "ipython3",
   "version": "3.10.17"
  }
 },
 "nbformat": 4,
 "nbformat_minor": 5
}
