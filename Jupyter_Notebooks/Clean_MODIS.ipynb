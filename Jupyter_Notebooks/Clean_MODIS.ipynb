{
 "cells": [
  {
   "cell_type": "code",
   "execution_count": 1,
   "id": "8b9db4dc-f852-4240-b393-8e2722ad3f74",
   "metadata": {},
   "outputs": [
    {
     "name": "stdout",
     "output_type": "stream",
     "text": [
      "     AGS    ARS  GF         GEN               BEZ  NDVI_DJF_23_24  \\\n",
      "0  01001  01001   4   Flensburg  Kreisfreie Stadt        0.480686   \n",
      "1  01002  01002   4        Kiel  Kreisfreie Stadt        0.434920   \n",
      "2  01003  01003   4      Lübeck  Kreisfreie Stadt        0.440358   \n",
      "3  01004  01004   4  Neumünster  Kreisfreie Stadt        0.512774   \n",
      "4  02000  02000   4     Hamburg  Kreisfreie Stadt        0.425068   \n",
      "\n",
      "   NDVI_JJA_24  NDVI_MAM_24  NDVI_SON_24  \n",
      "0     0.677135     0.548549     0.628363  \n",
      "1     0.675550     0.608622     0.629214  \n",
      "2     0.660054     0.589503     0.603183  \n",
      "3     0.689680     0.630917     0.655018  \n",
      "4     0.646781     0.590361     0.603935  \n"
     ]
    }
   ],
   "source": [
    "import pandas as pd\n",
    "import os\n",
    "\n",
    "# Pfad zum Ordner, der die CSV-Dateien enthält\n",
    "folder_path = 'C:/users/agnes/Documents/EAGLE/Innovation_Lab/Daten/MODIS/MODIS_061_MOD13A3/'\n",
    "\n",
    "# Liste der CSV-Dateien im Ordner\n",
    "csv_files = [f for f in os.listdir(folder_path) if f.endswith('.csv')]\n",
    "\n",
    "# DataFrame für die kombinierten Daten erstellen\n",
    "combined_df = pd.DataFrame()\n",
    "\n",
    "# Jede CSV-Datei einlesen und die mean_NDVI-Werte in einer eigenen Spalte speichern\n",
    "for csv_file in csv_files:\n",
    "    # Pfad zur aktuellen Datei\n",
    "    csv_file_path = os.path.join(folder_path, csv_file)\n",
    "    \n",
    "    # CSV-Datei einlesen\n",
    "    df = pd.read_csv(csv_file_path, dtype={'AGS': str, 'ARS': str})\n",
    "    \n",
    "    # Entfernen von NaN-Werten und Umwandlung der Spalte 'GF' in numerisch\n",
    "    df['GF'] = pd.to_numeric(df['GF'], errors='coerce')\n",
    "    df_clean = df[df['GF'] != 2].dropna(subset=['GF'])\n",
    "        \n",
    "    # Nur die relevanten Spalten extrahieren und Kopie erstellen\n",
    "    relevant_columns = ['AGS', 'ARS', 'GF', 'GEN', 'BEZ', 'mean_NDVI']\n",
    "    df_clean_filtered = df_clean[relevant_columns].copy()  # .copy() hinzufügen\n",
    "    \n",
    "    # Umbenennen der 'mean_NDVI' Spalte zu dem Dateinamen\n",
    "    csv_filename_without_ext = os.path.splitext(csv_file)[0]  # Dateiname ohne Extension\n",
    "    df_clean_filtered.rename(columns={'mean_NDVI': csv_filename_without_ext}, inplace=True)\n",
    "    \n",
    "    # Kombiniere mit dem Haupt-DataFrame\n",
    "    if combined_df.empty:\n",
    "        combined_df = df_clean_filtered\n",
    "    else:\n",
    "        combined_df = pd.merge(combined_df, df_clean_filtered, on=['AGS', 'ARS', 'GF', 'GEN', 'BEZ'], how='outer')\n",
    "\n",
    "# Vorschau des kombinierten DataFrames\n",
    "print(combined_df.head())\n",
    "\n",
    "# Speichern des kombinierten DataFrames als CSV\n",
    "combined_df.to_csv('C:/users/agnes/Documents/EAGLE/Innovation_Lab/Daten/MODIS/MODIS_061_MOD13A3/combined_mean_NDVI_values.csv', index=False)\n"
   ]
  }
 ],
 "metadata": {
  "kernelspec": {
   "display_name": "Python 3 (ipykernel)",
   "language": "python",
   "name": "python3"
  },
  "language_info": {
   "codemirror_mode": {
    "name": "ipython",
    "version": 3
   },
   "file_extension": ".py",
   "mimetype": "text/x-python",
   "name": "python",
   "nbconvert_exporter": "python",
   "pygments_lexer": "ipython3",
   "version": "3.10.17"
  }
 },
 "nbformat": 4,
 "nbformat_minor": 5
}
