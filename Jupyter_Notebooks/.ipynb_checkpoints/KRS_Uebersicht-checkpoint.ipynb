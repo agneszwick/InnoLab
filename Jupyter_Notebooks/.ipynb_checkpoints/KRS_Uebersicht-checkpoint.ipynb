{
 "cells": [
  {
   "cell_type": "code",
   "execution_count": 4,
   "id": "75ce870f-06f4-4d4b-ad4f-b46d844549f7",
   "metadata": {},
   "outputs": [
    {
     "name": "stdout",
     "output_type": "stream",
     "text": [
      "     AGS    ARS  GF         GEN               BEZ\n",
      "0  01001  01001   4   Flensburg  Kreisfreie Stadt\n",
      "1  01002  01002   4        Kiel  Kreisfreie Stadt\n",
      "2  01003  01003   4      Lübeck  Kreisfreie Stadt\n",
      "3  01004  01004   4  Neumünster  Kreisfreie Stadt\n",
      "4  02000  02000   4     Hamburg  Kreisfreie Stadt\n"
     ]
    }
   ],
   "source": [
    "import pandas as pd\n",
    "\n",
    "# Pfad zur CSV-Datei\n",
    "csv_path = \"C:/Users/agnes/Documents/EAGLE/Innovation_Lab/Daten/Sentinel_5P/OFFL_L3_O3/combined_O3_values.csv\"\n",
    "\n",
    "# Datei einlesen\n",
    "df_o3 = pd.read_csv(csv_path,  dtype={'AGS': str, 'ARS': str})\n",
    "\n",
    "# Nur die ersten 5 Spalten verwenden\n",
    "df_krs_uebersicht = df_o3.iloc[:, :5].copy()\n",
    "\n",
    "# Übersicht anzeigen\n",
    "print(df_krs_uebersicht.head())\n",
    "\n",
    "# Als neue CSV speichern\n",
    "df_krs_uebersicht.to_csv(\"C:/Users/agnes/Documents/EAGLE/Innovation_Lab/Daten/Verwaltungsgebiete/KRS_Uebersicht.csv\", index=False)\n",
    "\n"
   ]
  }
 ],
 "metadata": {
  "kernelspec": {
   "display_name": "Python 3 (ipykernel)",
   "language": "python",
   "name": "python3"
  },
  "language_info": {
   "codemirror_mode": {
    "name": "ipython",
    "version": 3
   },
   "file_extension": ".py",
   "mimetype": "text/x-python",
   "name": "python",
   "nbconvert_exporter": "python",
   "pygments_lexer": "ipython3",
   "version": "3.10.17"
  }
 },
 "nbformat": 4,
 "nbformat_minor": 5
}
