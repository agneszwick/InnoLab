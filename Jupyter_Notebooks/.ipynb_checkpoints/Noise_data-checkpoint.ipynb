{
 "cells": [
  {
   "cell_type": "code",
   "execution_count": 11,
   "id": "d177cbc2-43ce-4f05-b4d6-dfa1cb5a9ae2",
   "metadata": {},
   "outputs": [],
   "source": [
    "import rasterio\n",
    "from rasterstats import zonal_stats\n",
    "import geopandas as gpd\n",
    "import pandas as pd\n"
   ]
  },
  {
   "cell_type": "code",
   "execution_count": 2,
   "id": "5f1fd7e1-b4fa-491b-b74f-0d0ff7c5fccc",
   "metadata": {},
   "outputs": [],
   "source": [
    "shapefile_path = \"C:/Users/agnes/Documents/EAGLE/Innovation_Lab/Daten/Verwaltungsgebiete/vg250_12-31.gk3.shape.ebenen/vg250_ebenen_1231/VG250_KRS.shp\"\n",
    "gdf = gpd.read_file(shapefile_path, dtype={'ARS': str})"
   ]
  },
  {
   "cell_type": "code",
   "execution_count": 3,
   "id": "75275350-96ee-4be8-8f36-6f086064db10",
   "metadata": {},
   "outputs": [],
   "source": [
    "stats = zonal_stats(\n",
    "    gdf,\n",
    "    r\"C:\\Users\\agnes\\Documents\\EAGLE\\Innovation_Lab\\Daten\\Noise2AOI\\NOISE2AOI_LDEN2017_Germany_BKG25STA_ValuesMapped_COG.tif\",\n",
    "    categorical=True,\n",
    "    nodata=-9999,\n",
    "    all_touched=False\n",
    ")\n",
    "\n"
   ]
  },
  {
   "cell_type": "code",
   "execution_count": 13,
   "id": "1bbc8e40-65bc-4600-a7e8-9c6402eabf06",
   "metadata": {},
   "outputs": [
    {
     "name": "stdout",
     "output_type": "stream",
     "text": [
      "          255\n",
      "0      492865\n",
      "1     1128171\n",
      "2     2117709\n",
      "3      716383\n",
      "4    14133193\n",
      "..        ...\n",
      "428    114365\n",
      "429      2835\n",
      "430    587488\n",
      "431     15954\n",
      "432   1585332\n",
      "\n",
      "[433 rows x 1 columns]\n"
     ]
    }
   ],
   "source": [
    "# stats ist eine Liste von Dicts → direkt in DataFrame\n",
    "df_stats = pd.DataFrame(stats)\n",
    "\n",
    "# Optional: fehlende Klassen auffüllen mit 0\n",
    "df_stats = df_stats.fillna(0).astype(int)\n",
    "print(df_stats)"
   ]
  },
  {
   "cell_type": "code",
   "execution_count": 15,
   "id": "43803121-4752-4dbc-9a1d-712996771d00",
   "metadata": {},
   "outputs": [
    {
     "name": "stdout",
     "output_type": "stream",
     "text": [
      "Gefundene Pixelwerte: [55, 60, 65, 70, 75, 253, 254]\n"
     ]
    }
   ],
   "source": [
    "import rasterio\n",
    "from rasterio.windows import Window\n",
    "\n",
    "# Pfad zum Raster\n",
    "path = r\"C:\\Users\\agnes\\Documents\\EAGLE\\Innovation_Lab\\Daten\\Noise2AOI\\NOISE2AOI_LDEN2017_Germany_BKG25STA_ValuesMapped_COG.tif\"\n",
    "\n",
    "unique_vals = set()\n",
    "\n",
    "with rasterio.open(path) as src:\n",
    "    # Gehe Block-für-Block durch (natürliche Kachelgröße des TIFF)\n",
    "    for ji, window in src.block_windows(1):\n",
    "        data = src.read(1, window=window)             # nur diesen Block lesen\n",
    "        mask = data != src.nodata                      # NoData maskieren\n",
    "        unique_vals.update(data[mask].ravel().tolist())\n",
    "\n",
    "print(\"Gefundene Pixelwerte:\", sorted(unique_vals))\n"
   ]
  },
  {
   "cell_type": "code",
   "execution_count": 16,
   "id": "b8926a10-687c-4be7-a334-19bda1fa6ed2",
   "metadata": {},
   "outputs": [
    {
     "ename": "MemoryError",
     "evalue": "Unable to allocate 5.32 GiB for an array with shape (1, 87740, 65120) and data type uint8",
     "output_type": "error",
     "traceback": [
      "\u001b[1;31m---------------------------------------------------------------------------\u001b[0m",
      "\u001b[1;31mMemoryError\u001b[0m                               Traceback (most recent call last)",
      "Cell \u001b[1;32mIn[16], line 9\u001b[0m\n\u001b[0;32m      7\u001b[0m \u001b[38;5;28;01mwith\u001b[39;00m rasterio\u001b[38;5;241m.\u001b[39mopen(input_path) \u001b[38;5;28;01mas\u001b[39;00m src:\n\u001b[0;32m      8\u001b[0m     profile \u001b[38;5;241m=\u001b[39m src\u001b[38;5;241m.\u001b[39mprofile\u001b[38;5;241m.\u001b[39mcopy()\n\u001b[1;32m----> 9\u001b[0m     data \u001b[38;5;241m=\u001b[39m \u001b[43msrc\u001b[49m\u001b[38;5;241;43m.\u001b[39;49m\u001b[43mread\u001b[49m\u001b[43m(\u001b[49m\u001b[38;5;241;43m1\u001b[39;49m\u001b[43m)\u001b[49m\n\u001b[0;32m     11\u001b[0m     \u001b[38;5;66;03m# Setze alle 254er-Werte auf NoData\u001b[39;00m\n\u001b[0;32m     12\u001b[0m     data[(data \u001b[38;5;241m==\u001b[39m \u001b[38;5;241m253\u001b[39m) \u001b[38;5;241m|\u001b[39m (data \u001b[38;5;241m==\u001b[39m \u001b[38;5;241m254\u001b[39m)] \u001b[38;5;241m=\u001b[39m src\u001b[38;5;241m.\u001b[39mnodata \u001b[38;5;28;01mif\u001b[39;00m src\u001b[38;5;241m.\u001b[39mnodata \u001b[38;5;129;01mis\u001b[39;00m \u001b[38;5;129;01mnot\u001b[39;00m \u001b[38;5;28;01mNone\u001b[39;00m \u001b[38;5;28;01melse\u001b[39;00m \u001b[38;5;241m-\u001b[39m\u001b[38;5;241m9999\u001b[39m\n",
      "File \u001b[1;32mrasterio\\_io.pyx:590\u001b[0m, in \u001b[0;36mrasterio._io.DatasetReaderBase.read\u001b[1;34m()\u001b[0m\n",
      "\u001b[1;31mMemoryError\u001b[0m: Unable to allocate 5.32 GiB for an array with shape (1, 87740, 65120) and data type uint8"
     ]
    }
   ],
   "source": [
    "import rasterio\n",
    "import numpy as np\n",
    "\n",
    "input_path = r\"C:\\Users\\agnes\\Documents\\EAGLE\\Innovation_Lab\\Daten\\Noise2AOI\\NOISE2AOI_LDEN2017_Germany_BKG25STA_ValuesMapped_COG.tif\"\n",
    "output_path = r\"C:\\Users\\agnes\\Documents\\EAGLE\\Innovation_Lab\\Daten\\Noise2AOI\\ValuesMapped_COG_clean.tif\"\n",
    "\n",
    "with rasterio.open(input_path) as src:\n",
    "    profile = src.profile.copy()\n",
    "    data = src.read(1)\n",
    "\n",
    "    # Setze alle 254er-Werte auf NoData\n",
    "    data[(data == 253) | (data == 254)] = src.nodata if src.nodata is not None else -9999\n",
    "\n",
    "    # Aktualisiere das Profil mit dem neuen NoData-Wert\n",
    "    profile.update(nodata=-9999)\n",
    "\n",
    "    with rasterio.open(output_path, \"w\", **profile) as dst:\n",
    "        dst.write(data, 1)\n"
   ]
  }
 ],
 "metadata": {
  "kernelspec": {
   "display_name": "Python 3 (ipykernel)",
   "language": "python",
   "name": "python3"
  },
  "language_info": {
   "codemirror_mode": {
    "name": "ipython",
    "version": 3
   },
   "file_extension": ".py",
   "mimetype": "text/x-python",
   "name": "python",
   "nbconvert_exporter": "python",
   "pygments_lexer": "ipython3",
   "version": "3.10.17"
  }
 },
 "nbformat": 4,
 "nbformat_minor": 5
}
