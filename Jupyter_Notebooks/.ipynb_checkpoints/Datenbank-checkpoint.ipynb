{
 "cells": [
  {
   "cell_type": "code",
   "execution_count": null,
   "id": "adc5a9c0-f8ec-4e66-aa08-15c854ddb04b",
   "metadata": {},
   "outputs": [],
   "source": []
  }
 ],
 "metadata": {
  "kernelspec": {
   "display_name": "Python 3 (ipykernel)",
   "language": "python",
   "name": "python3"
  },
  "language_info": {
   "name": ""
  }
 },
 "nbformat": 4,
 "nbformat_minor": 5
}
